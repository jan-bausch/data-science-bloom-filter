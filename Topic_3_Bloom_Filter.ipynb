{
  "nbformat": 4,
  "nbformat_minor": 0,
  "metadata": {
    "colab": {
      "name": "Topic 3 Bloom Filter.ipynb",
      "provenance": []
    },
    "kernelspec": {
      "name": "python3",
      "display_name": "Python 3"
    },
    "language_info": {
      "name": "python"
    },
    "widgets": {
      "application/vnd.jupyter.widget-state+json": {
        "06b174f547fc447ca873eded9dbc83d2": {
          "model_module": "@jupyter-widgets/controls",
          "model_name": "HTMLModel",
          "model_module_version": "1.5.0",
          "state": {
            "_dom_classes": [],
            "_model_module": "@jupyter-widgets/controls",
            "_model_module_version": "1.5.0",
            "_model_name": "HTMLModel",
            "_view_count": null,
            "_view_module": "@jupyter-widgets/controls",
            "_view_module_version": "1.5.0",
            "_view_name": "HTMLView",
            "description": "",
            "description_tooltip": null,
            "layout": "IPY_MODEL_8bfd3242d175495086be1d6710b2728c",
            "placeholder": "​",
            "style": "IPY_MODEL_80dd951294bd40fbbaf8ca7d0dbd7d68",
            "value": "<h1>Bloom Filter</h1>"
          }
        },
        "8bfd3242d175495086be1d6710b2728c": {
          "model_module": "@jupyter-widgets/base",
          "model_name": "LayoutModel",
          "model_module_version": "1.2.0",
          "state": {
            "_model_module": "@jupyter-widgets/base",
            "_model_module_version": "1.2.0",
            "_model_name": "LayoutModel",
            "_view_count": null,
            "_view_module": "@jupyter-widgets/base",
            "_view_module_version": "1.2.0",
            "_view_name": "LayoutView",
            "align_content": null,
            "align_items": null,
            "align_self": null,
            "border": null,
            "bottom": null,
            "display": null,
            "flex": null,
            "flex_flow": null,
            "grid_area": null,
            "grid_auto_columns": null,
            "grid_auto_flow": null,
            "grid_auto_rows": null,
            "grid_column": null,
            "grid_gap": null,
            "grid_row": null,
            "grid_template_areas": null,
            "grid_template_columns": null,
            "grid_template_rows": null,
            "height": null,
            "justify_content": null,
            "justify_items": null,
            "left": null,
            "margin": null,
            "max_height": null,
            "max_width": null,
            "min_height": null,
            "min_width": null,
            "object_fit": null,
            "object_position": null,
            "order": null,
            "overflow": null,
            "overflow_x": null,
            "overflow_y": null,
            "padding": null,
            "right": null,
            "top": null,
            "visibility": null,
            "width": null
          }
        },
        "80dd951294bd40fbbaf8ca7d0dbd7d68": {
          "model_module": "@jupyter-widgets/controls",
          "model_name": "DescriptionStyleModel",
          "model_module_version": "1.5.0",
          "state": {
            "_model_module": "@jupyter-widgets/controls",
            "_model_module_version": "1.5.0",
            "_model_name": "DescriptionStyleModel",
            "_view_count": null,
            "_view_module": "@jupyter-widgets/base",
            "_view_module_version": "1.2.0",
            "_view_name": "StyleView",
            "description_width": ""
          }
        },
        "0c1d9869fb3a4dcba64d4e3157ec7c5a": {
          "model_module": "@jupyter-widgets/controls",
          "model_name": "HTMLModel",
          "model_module_version": "1.5.0",
          "state": {
            "_dom_classes": [],
            "_model_module": "@jupyter-widgets/controls",
            "_model_module_version": "1.5.0",
            "_model_name": "HTMLModel",
            "_view_count": null,
            "_view_module": "@jupyter-widgets/controls",
            "_view_module_version": "1.5.0",
            "_view_name": "HTMLView",
            "description": "",
            "description_tooltip": null,
            "layout": "IPY_MODEL_fe96a2c308e44c919125a49b2c20c85b",
            "placeholder": "​",
            "style": "IPY_MODEL_2e7f6400be984967848d3464043abcd8",
            "value": "<h2>Search (Personal Implementation)</h2>"
          }
        },
        "fe96a2c308e44c919125a49b2c20c85b": {
          "model_module": "@jupyter-widgets/base",
          "model_name": "LayoutModel",
          "model_module_version": "1.2.0",
          "state": {
            "_model_module": "@jupyter-widgets/base",
            "_model_module_version": "1.2.0",
            "_model_name": "LayoutModel",
            "_view_count": null,
            "_view_module": "@jupyter-widgets/base",
            "_view_module_version": "1.2.0",
            "_view_name": "LayoutView",
            "align_content": null,
            "align_items": null,
            "align_self": null,
            "border": null,
            "bottom": null,
            "display": null,
            "flex": null,
            "flex_flow": null,
            "grid_area": null,
            "grid_auto_columns": null,
            "grid_auto_flow": null,
            "grid_auto_rows": null,
            "grid_column": null,
            "grid_gap": null,
            "grid_row": null,
            "grid_template_areas": null,
            "grid_template_columns": null,
            "grid_template_rows": null,
            "height": null,
            "justify_content": null,
            "justify_items": null,
            "left": null,
            "margin": null,
            "max_height": null,
            "max_width": null,
            "min_height": null,
            "min_width": null,
            "object_fit": null,
            "object_position": null,
            "order": null,
            "overflow": null,
            "overflow_x": null,
            "overflow_y": null,
            "padding": null,
            "right": null,
            "top": null,
            "visibility": null,
            "width": null
          }
        },
        "2e7f6400be984967848d3464043abcd8": {
          "model_module": "@jupyter-widgets/controls",
          "model_name": "DescriptionStyleModel",
          "model_module_version": "1.5.0",
          "state": {
            "_model_module": "@jupyter-widgets/controls",
            "_model_module_version": "1.5.0",
            "_model_name": "DescriptionStyleModel",
            "_view_count": null,
            "_view_module": "@jupyter-widgets/base",
            "_view_module_version": "1.2.0",
            "_view_name": "StyleView",
            "description_width": ""
          }
        },
        "9ded72555f4841e3aa734908b6118d11": {
          "model_module": "@jupyter-widgets/controls",
          "model_name": "IntSliderModel",
          "model_module_version": "1.5.0",
          "state": {
            "_dom_classes": [],
            "_model_module": "@jupyter-widgets/controls",
            "_model_module_version": "1.5.0",
            "_model_name": "IntSliderModel",
            "_view_count": null,
            "_view_module": "@jupyter-widgets/controls",
            "_view_module_version": "1.5.0",
            "_view_name": "IntSliderView",
            "continuous_update": true,
            "description": "Memory size:",
            "description_tooltip": null,
            "disabled": false,
            "layout": "IPY_MODEL_1cd699f5ed2349f4945c0389525fd378",
            "max": 4000,
            "min": 0,
            "orientation": "horizontal",
            "readout": true,
            "readout_format": "d",
            "step": 10,
            "style": "IPY_MODEL_9d9be332dae540acb9393eebf4269179",
            "value": 240
          }
        },
        "1cd699f5ed2349f4945c0389525fd378": {
          "model_module": "@jupyter-widgets/base",
          "model_name": "LayoutModel",
          "model_module_version": "1.2.0",
          "state": {
            "_model_module": "@jupyter-widgets/base",
            "_model_module_version": "1.2.0",
            "_model_name": "LayoutModel",
            "_view_count": null,
            "_view_module": "@jupyter-widgets/base",
            "_view_module_version": "1.2.0",
            "_view_name": "LayoutView",
            "align_content": null,
            "align_items": null,
            "align_self": null,
            "border": null,
            "bottom": null,
            "display": null,
            "flex": null,
            "flex_flow": null,
            "grid_area": null,
            "grid_auto_columns": null,
            "grid_auto_flow": null,
            "grid_auto_rows": null,
            "grid_column": null,
            "grid_gap": null,
            "grid_row": null,
            "grid_template_areas": null,
            "grid_template_columns": null,
            "grid_template_rows": null,
            "height": null,
            "justify_content": null,
            "justify_items": null,
            "left": null,
            "margin": null,
            "max_height": null,
            "max_width": null,
            "min_height": null,
            "min_width": null,
            "object_fit": null,
            "object_position": null,
            "order": null,
            "overflow": null,
            "overflow_x": null,
            "overflow_y": null,
            "padding": null,
            "right": null,
            "top": null,
            "visibility": null,
            "width": null
          }
        },
        "9d9be332dae540acb9393eebf4269179": {
          "model_module": "@jupyter-widgets/controls",
          "model_name": "SliderStyleModel",
          "model_module_version": "1.5.0",
          "state": {
            "_model_module": "@jupyter-widgets/controls",
            "_model_module_version": "1.5.0",
            "_model_name": "SliderStyleModel",
            "_view_count": null,
            "_view_module": "@jupyter-widgets/base",
            "_view_module_version": "1.2.0",
            "_view_name": "StyleView",
            "description_width": "",
            "handle_color": null
          }
        },
        "ff8a0d3ff0c8452ba86a2bf437e480fd": {
          "model_module": "@jupyter-widgets/controls",
          "model_name": "TextModel",
          "model_module_version": "1.5.0",
          "state": {
            "_dom_classes": [],
            "_model_module": "@jupyter-widgets/controls",
            "_model_module_version": "1.5.0",
            "_model_name": "TextModel",
            "_view_count": null,
            "_view_module": "@jupyter-widgets/controls",
            "_view_module_version": "1.5.0",
            "_view_name": "TextView",
            "continuous_update": true,
            "description": "Search word:",
            "description_tooltip": null,
            "disabled": false,
            "layout": "IPY_MODEL_5dd487a883cb4c619d2286e8ab68d6c5",
            "placeholder": "​",
            "style": "IPY_MODEL_be88982bc4a840afa67003a608978b8d",
            "value": "abelmochus"
          }
        },
        "5dd487a883cb4c619d2286e8ab68d6c5": {
          "model_module": "@jupyter-widgets/base",
          "model_name": "LayoutModel",
          "model_module_version": "1.2.0",
          "state": {
            "_model_module": "@jupyter-widgets/base",
            "_model_module_version": "1.2.0",
            "_model_name": "LayoutModel",
            "_view_count": null,
            "_view_module": "@jupyter-widgets/base",
            "_view_module_version": "1.2.0",
            "_view_name": "LayoutView",
            "align_content": null,
            "align_items": null,
            "align_self": null,
            "border": null,
            "bottom": null,
            "display": null,
            "flex": null,
            "flex_flow": null,
            "grid_area": null,
            "grid_auto_columns": null,
            "grid_auto_flow": null,
            "grid_auto_rows": null,
            "grid_column": null,
            "grid_gap": null,
            "grid_row": null,
            "grid_template_areas": null,
            "grid_template_columns": null,
            "grid_template_rows": null,
            "height": null,
            "justify_content": null,
            "justify_items": null,
            "left": null,
            "margin": null,
            "max_height": null,
            "max_width": null,
            "min_height": null,
            "min_width": null,
            "object_fit": null,
            "object_position": null,
            "order": null,
            "overflow": null,
            "overflow_x": null,
            "overflow_y": null,
            "padding": null,
            "right": null,
            "top": null,
            "visibility": null,
            "width": null
          }
        },
        "be88982bc4a840afa67003a608978b8d": {
          "model_module": "@jupyter-widgets/controls",
          "model_name": "DescriptionStyleModel",
          "model_module_version": "1.5.0",
          "state": {
            "_model_module": "@jupyter-widgets/controls",
            "_model_module_version": "1.5.0",
            "_model_name": "DescriptionStyleModel",
            "_view_count": null,
            "_view_module": "@jupyter-widgets/base",
            "_view_module_version": "1.2.0",
            "_view_name": "StyleView",
            "description_width": ""
          }
        },
        "05d4212585bd4730a249751870da69d3": {
          "model_module": "@jupyter-widgets/controls",
          "model_name": "ButtonModel",
          "model_module_version": "1.5.0",
          "state": {
            "_dom_classes": [],
            "_model_module": "@jupyter-widgets/controls",
            "_model_module_version": "1.5.0",
            "_model_name": "ButtonModel",
            "_view_count": null,
            "_view_module": "@jupyter-widgets/controls",
            "_view_module_version": "1.5.0",
            "_view_name": "ButtonView",
            "button_style": "",
            "description": "Search",
            "disabled": false,
            "icon": "",
            "layout": "IPY_MODEL_6f02dd8622a64557a8defb6e8df371be",
            "style": "IPY_MODEL_94747d2453494a90ad6424935629b201",
            "tooltip": ""
          }
        },
        "6f02dd8622a64557a8defb6e8df371be": {
          "model_module": "@jupyter-widgets/base",
          "model_name": "LayoutModel",
          "model_module_version": "1.2.0",
          "state": {
            "_model_module": "@jupyter-widgets/base",
            "_model_module_version": "1.2.0",
            "_model_name": "LayoutModel",
            "_view_count": null,
            "_view_module": "@jupyter-widgets/base",
            "_view_module_version": "1.2.0",
            "_view_name": "LayoutView",
            "align_content": null,
            "align_items": null,
            "align_self": null,
            "border": null,
            "bottom": null,
            "display": null,
            "flex": null,
            "flex_flow": null,
            "grid_area": null,
            "grid_auto_columns": null,
            "grid_auto_flow": null,
            "grid_auto_rows": null,
            "grid_column": null,
            "grid_gap": null,
            "grid_row": null,
            "grid_template_areas": null,
            "grid_template_columns": null,
            "grid_template_rows": null,
            "height": null,
            "justify_content": null,
            "justify_items": null,
            "left": null,
            "margin": null,
            "max_height": null,
            "max_width": null,
            "min_height": null,
            "min_width": null,
            "object_fit": null,
            "object_position": null,
            "order": null,
            "overflow": null,
            "overflow_x": null,
            "overflow_y": null,
            "padding": null,
            "right": null,
            "top": null,
            "visibility": null,
            "width": null
          }
        },
        "94747d2453494a90ad6424935629b201": {
          "model_module": "@jupyter-widgets/controls",
          "model_name": "ButtonStyleModel",
          "model_module_version": "1.5.0",
          "state": {
            "_model_module": "@jupyter-widgets/controls",
            "_model_module_version": "1.5.0",
            "_model_name": "ButtonStyleModel",
            "_view_count": null,
            "_view_module": "@jupyter-widgets/base",
            "_view_module_version": "1.2.0",
            "_view_name": "StyleView",
            "button_color": null,
            "font_weight": ""
          }
        },
        "2b3edc8a1e52449f92d8aeb8546742c8": {
          "model_module": "@jupyter-widgets/output",
          "model_name": "OutputModel",
          "model_module_version": "1.0.0",
          "state": {
            "_dom_classes": [],
            "_model_module": "@jupyter-widgets/output",
            "_model_module_version": "1.0.0",
            "_model_name": "OutputModel",
            "_view_count": null,
            "_view_module": "@jupyter-widgets/output",
            "_view_module_version": "1.0.0",
            "_view_name": "OutputView",
            "layout": "IPY_MODEL_49a65f398b354ec09a42a97f0aeb9594",
            "msg_id": "",
            "outputs": [
              {
                "output_type": "stream",
                "name": "stdout",
                "text": [
                  "N: 560   Real: True   Bloom: True\n"
                ]
              },
              {
                "output_type": "stream",
                "name": "stdout",
                "text": [
                  "N: 470   Real: True   Bloom: True\n"
                ]
              },
              {
                "output_type": "stream",
                "name": "stdout",
                "text": [
                  "N: 240   Real: True   Bloom: True\n"
                ]
              },
              {
                "output_type": "stream",
                "name": "stdout",
                "text": [
                  "N: 240   Real: False   Bloom: True\n"
                ]
              }
            ]
          }
        },
        "49a65f398b354ec09a42a97f0aeb9594": {
          "model_module": "@jupyter-widgets/base",
          "model_name": "LayoutModel",
          "model_module_version": "1.2.0",
          "state": {
            "_model_module": "@jupyter-widgets/base",
            "_model_module_version": "1.2.0",
            "_model_name": "LayoutModel",
            "_view_count": null,
            "_view_module": "@jupyter-widgets/base",
            "_view_module_version": "1.2.0",
            "_view_name": "LayoutView",
            "align_content": null,
            "align_items": null,
            "align_self": null,
            "border": null,
            "bottom": null,
            "display": null,
            "flex": null,
            "flex_flow": null,
            "grid_area": null,
            "grid_auto_columns": null,
            "grid_auto_flow": null,
            "grid_auto_rows": null,
            "grid_column": null,
            "grid_gap": null,
            "grid_row": null,
            "grid_template_areas": null,
            "grid_template_columns": null,
            "grid_template_rows": null,
            "height": null,
            "justify_content": null,
            "justify_items": null,
            "left": null,
            "margin": null,
            "max_height": null,
            "max_width": null,
            "min_height": null,
            "min_width": null,
            "object_fit": null,
            "object_position": null,
            "order": null,
            "overflow": null,
            "overflow_x": null,
            "overflow_y": null,
            "padding": null,
            "right": null,
            "top": null,
            "visibility": null,
            "width": null
          }
        },
        "e5f6090836ee44a791d1e85a072a2789": {
          "model_module": "@jupyter-widgets/controls",
          "model_name": "HTMLModel",
          "model_module_version": "1.5.0",
          "state": {
            "_dom_classes": [],
            "_model_module": "@jupyter-widgets/controls",
            "_model_module_version": "1.5.0",
            "_model_name": "HTMLModel",
            "_view_count": null,
            "_view_module": "@jupyter-widgets/controls",
            "_view_module_version": "1.5.0",
            "_view_name": "HTMLView",
            "description": "",
            "description_tooltip": null,
            "layout": "IPY_MODEL_2ca5c387a2a644f49b045d0367e29325",
            "placeholder": "​",
            "style": "IPY_MODEL_c107a1df484b4c0f9f56515cef7ad3d1",
            "value": "<h2>Count (Public Implementation)</h2>"
          }
        },
        "2ca5c387a2a644f49b045d0367e29325": {
          "model_module": "@jupyter-widgets/base",
          "model_name": "LayoutModel",
          "model_module_version": "1.2.0",
          "state": {
            "_model_module": "@jupyter-widgets/base",
            "_model_module_version": "1.2.0",
            "_model_name": "LayoutModel",
            "_view_count": null,
            "_view_module": "@jupyter-widgets/base",
            "_view_module_version": "1.2.0",
            "_view_name": "LayoutView",
            "align_content": null,
            "align_items": null,
            "align_self": null,
            "border": null,
            "bottom": null,
            "display": null,
            "flex": null,
            "flex_flow": null,
            "grid_area": null,
            "grid_auto_columns": null,
            "grid_auto_flow": null,
            "grid_auto_rows": null,
            "grid_column": null,
            "grid_gap": null,
            "grid_row": null,
            "grid_template_areas": null,
            "grid_template_columns": null,
            "grid_template_rows": null,
            "height": null,
            "justify_content": null,
            "justify_items": null,
            "left": null,
            "margin": null,
            "max_height": null,
            "max_width": null,
            "min_height": null,
            "min_width": null,
            "object_fit": null,
            "object_position": null,
            "order": null,
            "overflow": null,
            "overflow_x": null,
            "overflow_y": null,
            "padding": null,
            "right": null,
            "top": null,
            "visibility": null,
            "width": null
          }
        },
        "c107a1df484b4c0f9f56515cef7ad3d1": {
          "model_module": "@jupyter-widgets/controls",
          "model_name": "DescriptionStyleModel",
          "model_module_version": "1.5.0",
          "state": {
            "_model_module": "@jupyter-widgets/controls",
            "_model_module_version": "1.5.0",
            "_model_name": "DescriptionStyleModel",
            "_view_count": null,
            "_view_module": "@jupyter-widgets/base",
            "_view_module_version": "1.2.0",
            "_view_name": "StyleView",
            "description_width": ""
          }
        },
        "ce67d625945d4071bf25f3d4b233e427": {
          "model_module": "@jupyter-widgets/controls",
          "model_name": "IntSliderModel",
          "model_module_version": "1.5.0",
          "state": {
            "_dom_classes": [],
            "_model_module": "@jupyter-widgets/controls",
            "_model_module_version": "1.5.0",
            "_model_name": "IntSliderModel",
            "_view_count": null,
            "_view_module": "@jupyter-widgets/controls",
            "_view_module_version": "1.5.0",
            "_view_name": "IntSliderView",
            "continuous_update": true,
            "description": "Memory size:",
            "description_tooltip": null,
            "disabled": false,
            "layout": "IPY_MODEL_3d925aacbb804052b108c2d341f80b98",
            "max": 4000,
            "min": 0,
            "orientation": "horizontal",
            "readout": true,
            "readout_format": "d",
            "step": 10,
            "style": "IPY_MODEL_493d144c00e347068e7ae06460a6da42",
            "value": 170
          }
        },
        "3d925aacbb804052b108c2d341f80b98": {
          "model_module": "@jupyter-widgets/base",
          "model_name": "LayoutModel",
          "model_module_version": "1.2.0",
          "state": {
            "_model_module": "@jupyter-widgets/base",
            "_model_module_version": "1.2.0",
            "_model_name": "LayoutModel",
            "_view_count": null,
            "_view_module": "@jupyter-widgets/base",
            "_view_module_version": "1.2.0",
            "_view_name": "LayoutView",
            "align_content": null,
            "align_items": null,
            "align_self": null,
            "border": null,
            "bottom": null,
            "display": null,
            "flex": null,
            "flex_flow": null,
            "grid_area": null,
            "grid_auto_columns": null,
            "grid_auto_flow": null,
            "grid_auto_rows": null,
            "grid_column": null,
            "grid_gap": null,
            "grid_row": null,
            "grid_template_areas": null,
            "grid_template_columns": null,
            "grid_template_rows": null,
            "height": null,
            "justify_content": null,
            "justify_items": null,
            "left": null,
            "margin": null,
            "max_height": null,
            "max_width": null,
            "min_height": null,
            "min_width": null,
            "object_fit": null,
            "object_position": null,
            "order": null,
            "overflow": null,
            "overflow_x": null,
            "overflow_y": null,
            "padding": null,
            "right": null,
            "top": null,
            "visibility": null,
            "width": null
          }
        },
        "493d144c00e347068e7ae06460a6da42": {
          "model_module": "@jupyter-widgets/controls",
          "model_name": "SliderStyleModel",
          "model_module_version": "1.5.0",
          "state": {
            "_model_module": "@jupyter-widgets/controls",
            "_model_module_version": "1.5.0",
            "_model_name": "SliderStyleModel",
            "_view_count": null,
            "_view_module": "@jupyter-widgets/base",
            "_view_module_version": "1.2.0",
            "_view_name": "StyleView",
            "description_width": "",
            "handle_color": null
          }
        },
        "d2195fc3dde8453e949178172611c09d": {
          "model_module": "@jupyter-widgets/controls",
          "model_name": "ButtonModel",
          "model_module_version": "1.5.0",
          "state": {
            "_dom_classes": [],
            "_model_module": "@jupyter-widgets/controls",
            "_model_module_version": "1.5.0",
            "_model_name": "ButtonModel",
            "_view_count": null,
            "_view_module": "@jupyter-widgets/controls",
            "_view_module_version": "1.5.0",
            "_view_name": "ButtonView",
            "button_style": "",
            "description": "Count search hits",
            "disabled": false,
            "icon": "",
            "layout": "IPY_MODEL_dedc722bb3fd4e81a57b3947fb258cce",
            "style": "IPY_MODEL_22d6022649a049428528cd36a26ea275",
            "tooltip": ""
          }
        },
        "dedc722bb3fd4e81a57b3947fb258cce": {
          "model_module": "@jupyter-widgets/base",
          "model_name": "LayoutModel",
          "model_module_version": "1.2.0",
          "state": {
            "_model_module": "@jupyter-widgets/base",
            "_model_module_version": "1.2.0",
            "_model_name": "LayoutModel",
            "_view_count": null,
            "_view_module": "@jupyter-widgets/base",
            "_view_module_version": "1.2.0",
            "_view_name": "LayoutView",
            "align_content": null,
            "align_items": null,
            "align_self": null,
            "border": null,
            "bottom": null,
            "display": null,
            "flex": null,
            "flex_flow": null,
            "grid_area": null,
            "grid_auto_columns": null,
            "grid_auto_flow": null,
            "grid_auto_rows": null,
            "grid_column": null,
            "grid_gap": null,
            "grid_row": null,
            "grid_template_areas": null,
            "grid_template_columns": null,
            "grid_template_rows": null,
            "height": null,
            "justify_content": null,
            "justify_items": null,
            "left": null,
            "margin": null,
            "max_height": null,
            "max_width": null,
            "min_height": null,
            "min_width": null,
            "object_fit": null,
            "object_position": null,
            "order": null,
            "overflow": null,
            "overflow_x": null,
            "overflow_y": null,
            "padding": null,
            "right": null,
            "top": null,
            "visibility": null,
            "width": null
          }
        },
        "22d6022649a049428528cd36a26ea275": {
          "model_module": "@jupyter-widgets/controls",
          "model_name": "ButtonStyleModel",
          "model_module_version": "1.5.0",
          "state": {
            "_model_module": "@jupyter-widgets/controls",
            "_model_module_version": "1.5.0",
            "_model_name": "ButtonStyleModel",
            "_view_count": null,
            "_view_module": "@jupyter-widgets/base",
            "_view_module_version": "1.2.0",
            "_view_name": "StyleView",
            "button_color": null,
            "font_weight": ""
          }
        },
        "8f4f559cc12b450bbfc42fdbbc35a04c": {
          "model_module": "@jupyter-widgets/output",
          "model_name": "OutputModel",
          "model_module_version": "1.0.0",
          "state": {
            "_dom_classes": [],
            "_model_module": "@jupyter-widgets/output",
            "_model_module_version": "1.0.0",
            "_model_name": "OutputModel",
            "_view_count": null,
            "_view_module": "@jupyter-widgets/output",
            "_view_module_version": "1.0.0",
            "_view_name": "OutputView",
            "layout": "IPY_MODEL_5c58ea5db0d34424af1ace796d188ffb",
            "msg_id": "",
            "outputs": []
          }
        },
        "5c58ea5db0d34424af1ace796d188ffb": {
          "model_module": "@jupyter-widgets/base",
          "model_name": "LayoutModel",
          "model_module_version": "1.2.0",
          "state": {
            "_model_module": "@jupyter-widgets/base",
            "_model_module_version": "1.2.0",
            "_model_name": "LayoutModel",
            "_view_count": null,
            "_view_module": "@jupyter-widgets/base",
            "_view_module_version": "1.2.0",
            "_view_name": "LayoutView",
            "align_content": null,
            "align_items": null,
            "align_self": null,
            "border": null,
            "bottom": null,
            "display": null,
            "flex": null,
            "flex_flow": null,
            "grid_area": null,
            "grid_auto_columns": null,
            "grid_auto_flow": null,
            "grid_auto_rows": null,
            "grid_column": null,
            "grid_gap": null,
            "grid_row": null,
            "grid_template_areas": null,
            "grid_template_columns": null,
            "grid_template_rows": null,
            "height": null,
            "justify_content": null,
            "justify_items": null,
            "left": null,
            "margin": null,
            "max_height": null,
            "max_width": null,
            "min_height": null,
            "min_width": null,
            "object_fit": null,
            "object_position": null,
            "order": null,
            "overflow": null,
            "overflow_x": null,
            "overflow_y": null,
            "padding": null,
            "right": null,
            "top": null,
            "visibility": null,
            "width": null
          }
        }
      }
    }
  },
  "cells": [
    {
      "cell_type": "markdown",
      "source": [
        "# Scrape dataset\n",
        "Data has been extracted from the USDA plants database. It \n",
        "contains all plants (species and genera) in the database and the states \n",
        "of USA and Canada where they occur."
      ],
      "metadata": {
        "id": "0t39flOhbJYJ"
      }
    },
    {
      "cell_type": "code",
      "execution_count": 1,
      "metadata": {
        "id": "ABSO_w6bWBrl"
      },
      "outputs": [],
      "source": [
        "import requests\n",
        "response = requests.get('https://archive.ics.uci.edu/ml/machine-learning-databases/plants/plants.data')\n",
        "plaintext = response.text"
      ]
    },
    {
      "cell_type": "code",
      "source": [
        "data = []\n",
        "for line in plaintext.splitlines():\n",
        "  for word in line.split(','):\n",
        "    data.append(word)\n",
        "print(len(data))\n",
        "print(data[:100])"
      ],
      "metadata": {
        "colab": {
          "base_uri": "https://localhost:8080/"
        },
        "id": "qZnbcY-wbUcr",
        "outputId": "fcc31a8b-992b-4646-a555-df7059becfbb"
      },
      "execution_count": 2,
      "outputs": [
        {
          "output_type": "stream",
          "name": "stdout",
          "text": [
            "336895\n",
            "['abelia', 'fl', 'nc', 'abelia x grandiflora', 'fl', 'nc', 'abelmoschus', 'ct', 'dc', 'fl', 'hi', 'il', 'ky', 'la', 'md', 'mi', 'ms', 'nc', 'sc', 'va', 'pr', 'vi', 'abelmoschus esculentus', 'ct', 'dc', 'fl', 'il', 'ky', 'la', 'md', 'mi', 'ms', 'nc', 'sc', 'va', 'pr', 'vi', 'abelmoschus moschatus', 'hi', 'pr', 'abies', 'ak', 'az', 'ca', 'co', 'ct', 'ga', 'id', 'in', 'ia', 'me', 'md', 'ma', 'mi', 'mn', 'mt', 'nv', 'nh', 'nm', 'ny', 'nc', 'oh', 'or', 'pa', 'ri', 'tn', 'ut', 'vt', 'va', 'wa', 'wv', 'wi', 'wy', 'ab', 'bc', 'lb', 'mb', 'nb', 'nf', 'nt', 'ns', 'nu', 'on', 'pe', 'qc', 'sk', 'yt', 'fraspm', 'abies alba', 'nc', 'abies amabilis', 'ak', 'ca', 'or', 'wa', 'bc', 'abies balsamea', 'ct', 'in', 'ia']\n"
          ]
        }
      ]
    },
    {
      "cell_type": "markdown",
      "source": [
        "# Personal implementation"
      ],
      "metadata": {
        "id": "hOaObGlIFAh3"
      }
    },
    {
      "cell_type": "code",
      "source": [
        "class BloomFilter:\n",
        "\n",
        "  def hash1(self, str):\n",
        "    return hash(str) % 17459545\n",
        "\n",
        "  def hash2(self, str):\n",
        "    return hash(str) % 45644945\n",
        "\n",
        "  def hash3(self, str):\n",
        "    return hash(str) % 89895684\n",
        "\n",
        "  def __init__(self, train_data, memory_size):\n",
        "    self.memory_size = memory_size\n",
        "    self.memory = [False] * self.memory_size\n",
        "    self.hash_functions = [self.hash1, self.hash2, self.hash3]\n",
        "    # Prepare bloom filter\n",
        "    for word in train_data:\n",
        "        for hash_function in self.hash_functions:\n",
        "            self.memory[hash_function(word) % self.memory_size] = True\n",
        "\n",
        "  def search(self, word):\n",
        "    for hash_function in self.hash_functions:\n",
        "      if self.memory[hash_function(word) % self.memory_size] == False:\n",
        "        return False\n",
        "    return True\n",
        "\n",
        "my_filter = BloomFilter(data[0:1000], 3000)\n",
        "print(data[0:1000])\n",
        "my_filter.search(\"abelmoschus\")"
      ],
      "metadata": {
        "colab": {
          "base_uri": "https://localhost:8080/"
        },
        "id": "rJ1Zdn4PFDV5",
        "outputId": "0f17cf36-da0d-4b28-e6f9-a5ea5d320f8e"
      },
      "execution_count": 3,
      "outputs": [
        {
          "output_type": "stream",
          "name": "stdout",
          "text": [
            "['abelia', 'fl', 'nc', 'abelia x grandiflora', 'fl', 'nc', 'abelmoschus', 'ct', 'dc', 'fl', 'hi', 'il', 'ky', 'la', 'md', 'mi', 'ms', 'nc', 'sc', 'va', 'pr', 'vi', 'abelmoschus esculentus', 'ct', 'dc', 'fl', 'il', 'ky', 'la', 'md', 'mi', 'ms', 'nc', 'sc', 'va', 'pr', 'vi', 'abelmoschus moschatus', 'hi', 'pr', 'abies', 'ak', 'az', 'ca', 'co', 'ct', 'ga', 'id', 'in', 'ia', 'me', 'md', 'ma', 'mi', 'mn', 'mt', 'nv', 'nh', 'nm', 'ny', 'nc', 'oh', 'or', 'pa', 'ri', 'tn', 'ut', 'vt', 'va', 'wa', 'wv', 'wi', 'wy', 'ab', 'bc', 'lb', 'mb', 'nb', 'nf', 'nt', 'ns', 'nu', 'on', 'pe', 'qc', 'sk', 'yt', 'fraspm', 'abies alba', 'nc', 'abies amabilis', 'ak', 'ca', 'or', 'wa', 'bc', 'abies balsamea', 'ct', 'in', 'ia', 'me', 'md', 'ma', 'mi', 'mn', 'nh', 'ny', 'oh', 'pa', 'ri', 'vt', 'va', 'wv', 'wi', 'ab', 'lb', 'mb', 'nb', 'nf', 'ns', 'nu', 'on', 'pe', 'qc', 'sk', 'fraspm', 'abies balsamea var. balsamea', 'ct', 'in', 'ia', 'me', 'md', 'ma', 'mi', 'mn', 'nh', 'ny', 'oh', 'pa', 'ri', 'vt', 'va', 'wv', 'wi', 'ab', 'lb', 'mb', 'nb', 'nf', 'ns', 'nu', 'on', 'pe', 'qc', 'sk', 'fraspm', 'abies balsamea var. phanerolepis', 'me', 'nh', 'vt', 'va', 'wv', 'nb', 'nf', 'ns', 'on', 'pe', 'qc', 'abies bracteata', 'ca', 'abies concolor', 'az', 'ca', 'co', 'id', 'me', 'ma', 'nv', 'nm', 'or', 'ut', 'wy', 'abies concolor var. concolor', 'az', 'co', 'id', 'me', 'ma', 'nv', 'nm', 'or', 'ut', 'wy', 'abies concolor var. lowiana', 'ca', 'nv', 'or', 'abies fraseri', 'ga', 'nc', 'tn', 'va', 'abies grandis', 'ca', 'id', 'mt', 'or', 'wa', 'bc', 'abies homolepis', 'ny', 'abies lasiocarpa', 'ak', 'az', 'ca', 'co', 'id', 'mt', 'nv', 'nm', 'or', 'ut', 'wa', 'wy', 'ab', 'bc', 'nt', 'yt', 'abies lasiocarpa var. arizonica', 'az', 'co', 'nm', 'abies lasiocarpa var. lasiocarpa', 'ak', 'az', 'ca', 'co', 'id', 'mt', 'nv', 'nm', 'or', 'ut', 'wa', 'wy', 'ab', 'bc', 'nt', 'yt', 'abies magnifica', 'ca', 'nv', 'ny', 'or', 'abies procera', 'ca', 'or', 'wa', 'abies ×shastensis', 'ca', 'or', 'abildgaardia', 'fl', 'pr', 'vi', 'abildgaardia ovata', 'fl', 'pr', 'vi', 'abronia', 'az', 'ca', 'co', 'id', 'ks', 'mt', 'ne', 'nv', 'nm', 'nd', 'ok', 'or', 'sd', 'tx', 'ut', 'wa', 'wy', 'bc', 'abronia alpina', 'ca', 'abronia ameliae', 'tx', 'abronia ammophila', 'wy', 'abronia angustifolia', 'az', 'nm', 'tx', 'abronia argillosa', 'co', 'ut', 'abronia bigelovii', 'nm', 'abronia carletonii', 'co', 'nm', 'tx', 'abronia elliptica', 'az', 'co', 'nv', 'nm', 'ut', 'wy', 'abronia fragrans', 'az', 'co', 'ks', 'mt', 'ne', 'nm', 'nd', 'ok', 'sd', 'tx', 'ut', 'wa', 'wy', 'abronia gracilis', 'ca', 'abronia insularis', 'ca', 'abronia latifolia', 'ca', 'or', 'wa', 'bc', 'abronia macrocarpa', 'tx', 'abronia maritima', 'ca', 'abronia mellifera', 'id', 'or', 'ut', 'wa', 'wy', 'abronia minor', 'ca', 'abronia nana', 'az', 'ca', 'co', 'nv', 'nm', 'ut', 'abronia nana var. covillei', 'ca', 'nv', 'abronia nana var. harrisii', 'nm', 'ut', 'abronia nana var. nana', 'az', 'ca', 'co', 'nv', 'ut', 'abronia neurophylla', 'ca', 'abronia pogonantha', 'ca', 'nv', 'abronia turbinata', 'ca', 'nv', 'or', 'abronia umbellata', 'ca', 'or', 'wa', 'bc', 'abronia umbellata ssp. breviflora', 'ca', 'or', 'wa', 'bc', 'abronia umbellata ssp. umbellata', 'ca', 'abronia villosa', 'az', 'ca', 'nv', 'ut', 'abronia villosa var. aurita', 'az', 'ca', 'abronia villosa var. villosa', 'az', 'ca', 'nv', 'ut', 'abrus', 'al', 'ar', 'fl', 'ga', 'hi', 'pr', 'vi', 'abrus precatorius', 'al', 'ar', 'fl', 'ga', 'hi', 'pr', 'vi', 'abutilon', 'al', 'az', 'ar', 'ca', 'co', 'ct', 'de', 'dc', 'fl', 'ga', 'hi', 'id', 'il', 'in', 'ia', 'ks', 'ky', 'la', 'me', 'md', 'ma', 'mi', 'mn', 'ms', 'mo', 'mt', 'ne', 'nv', 'nh', 'nj', 'nm', 'ny', 'nc', 'nd', 'oh', 'ok', 'or', 'pa', 'ri', 'sc', 'sd', 'tn', 'tx', 'ut', 'vt', 'va', 'wa', 'wv', 'wi', 'wy', 'pr', 'vi', 'ab', 'bc', 'mb', 'nb', 'ns', 'on', 'pe', 'qc', 'sk', 'abutilon abutiloides', 'az', 'tx', 'pr', 'vi', 'abutilon auritum', 'hi', 'abutilon berlandieri', 'tx', 'abutilon eremitopetalum', 'hi', 'abutilon fruticosum', 'ar', 'ok', 'tx', 'abutilon grandifolium', 'hi', 'abutilon hirtum', 'fl', 'pr', 'vi', 'abutilon hulseanum', 'fl', 'la', 'tx', 'pr', 'abutilon hypoleucum', 'tx', 'abutilon incanum', 'az', 'co', 'hi', 'nm', 'abutilon indicum', 'hi', 'pr', 'vi', 'abutilon malacum', 'az', 'nm', 'tx', 'abutilon menziesii', 'hi', 'abutilon mollicomum', 'az', 'nm', 'tx', 'abutilon palmeri', 'az', 'ca', 'abutilon parishii', 'az', 'abutilon parvulum', 'az', 'ca', 'co', 'nv', 'nm', 'tx', 'ut', 'abutilon permolle', 'fl', 'pr', 'abutilon reventum', 'az', 'abutilon sandwicense', 'hi', 'abutilon theophrasti', 'al', 'az', 'ar', 'ca', 'co', 'ct', 'de', 'dc', 'fl', 'ga', 'id', 'il', 'in', 'ia', 'ks', 'ky', 'la', 'me', 'md', 'ma', 'mi', 'mn', 'ms', 'mo', 'mt', 'ne', 'nv', 'nh', 'nj', 'nm', 'ny', 'nc', 'nd', 'oh', 'ok', 'or', 'pa', 'ri', 'sc', 'sd', 'tn', 'tx', 'ut', 'vt', 'va', 'wa', 'wv', 'wi', 'wy', 'ab', 'bc', 'mb', 'nb', 'ns', 'on', 'pe', 'qc', 'sk', 'abutilon thurberi', 'az', 'abutilon trisulcatum', 'tx', 'abutilon wrightii', 'nm', 'tx', 'acacia', 'al', 'az', 'ar', 'ca', 'fl', 'ga', 'hi', 'ks', 'la', 'md', 'ms', 'mo', 'nv', 'nm', 'ok', 'or', 'tx', 'ut', 'va', 'pr', 'vi', 'acacia aneura', 'hi', 'acacia angustissima', 'az', 'ar', 'fl', 'ks', 'la', 'mo', 'nm', 'ok', 'tx', 'acacia angustissima var. chisosiana', 'tx', 'acacia angustissima var. hirta', 'ar', 'fl', 'ks', 'la', 'mo', 'ok', 'tx', 'acacia angustissima var. shrevei', 'az', 'acacia angustissima var. suffrutescens', 'az', 'nm', 'acacia angustissima var. texensis', 'az', 'nm', 'tx', 'acacia auriculiformis', 'fl', 'acacia baileyana', 'ca', 'acacia berlandieri', 'tx', 'acacia choriophylla', 'fl', 'acacia confusa', 'hi', 'acacia constricta', 'az', 'md', 'nm', 'tx', 'va', 'acacia constricta var. constricta', 'az', 'md', 'nm', 'tx', 'va', 'acacia constricta var. paucispina', 'az', 'nm', 'tx', 'acacia cornigera', 'fl', 'acacia cyclops', 'ca', 'acacia dealbata', 'ca', 'or', 'acacia decurrens', 'ca', 'acacia elata', 'ca', 'acacia farnesiana', 'al', 'az', 'ca', 'fl', 'ga', 'hi', 'la', 'ms', 'nm', 'tx', 'pr', 'vi', 'acacia greggii', 'az', 'ca', 'nv', 'nm', 'tx', 'ut', 'acacia greggii var. greggii', 'az', 'ca', 'nv', 'nm', 'tx', 'ut', 'acacia greggii var. wrightii', 'tx', 'acacia koa', 'hi', 'acacia koaia', 'hi', 'acacia longifolia', 'ca', 'acacia macracantha', 'fl', 'ga', 'pr', 'vi', 'acacia mearnsii', 'ca', 'hi', 'acacia melanoxylon', 'ca', 'hi', 'acacia millefolia', 'az', 'nm', 'acacia muricata', 'pr', 'vi', 'acacia neovernicosa', 'az', 'nm', 'tx', 'acacia nilotica', 'pr', 'vi', 'acacia paradoxa', 'ca', 'acacia parramattensis', 'hi', 'acacia pinetorum', 'fl', 'acacia podalyriifolia', 'ca', 'acacia polyacantha', 'pr', 'vi', 'acacia pycnantha', 'ca', 'acacia redolens', 'az', 'ca', 'acacia retinodes', 'ca', 'fl', 'acacia retusa', 'pr', 'vi', 'acacia rigidula', 'tx', 'acacia roemeriana', 'nm', 'tx', 'acacia saligna', 'ca', 'acacia schaffneri', 'tx', 'acacia schaffneri var. bravoensis', 'tx', 'acacia schottii', 'tx', 'acacia sphaerocephala', 'fl', 'acacia tortuosa', 'fl', 'pr', 'vi', 'acacia verticillata', 'ca', 'acacia vogeliana', 'pr', 'vi', 'acaena', 'ca', 'hi', 'or', 'acaena exigua', 'hi', 'acaena novae-zelandiae', 'ca', 'or', 'acaena pallida', 'ca', 'acaena pinnatifida', 'ca', 'acaena pinnatifida var. californica', 'ca', 'acalypha', 'al', 'az', 'ar', 'ca', 'ct', 'de', 'dc', 'fl', 'ga', 'il', 'in', 'ia', 'ks', 'ky', 'la', 'me', 'md', 'ma', 'mi', 'mn', 'ms', 'mo', 'ne', 'nh', 'nj', 'nm', 'ny', 'nc', 'nd', 'oh', 'ok', 'pa', 'ri', 'sc', 'sd', 'tn', 'tx', 'vt', 'va', 'wv', 'wi', 'pr', 'vi', 'nb', 'ns', 'on', 'qc', 'acalypha alopecuroidea', 'al', 'fl', 'la', 'pr', 'acalypha amentacea', 'fl', 'pr', 'acalypha amentacea ssp. wilkesiana', 'fl', 'pr', 'acalypha arvensis', 'fl', 'acalypha australis', 'nj', 'ny', 'acalypha berteriana', 'pr', 'acalypha bisetosa', 'pr', 'acalypha californica', 'az', 'ca', 'acalypha chamaedryfolia', 'fl', 'pr', 'vi', 'acalypha deamii', 'ar', 'il', 'in', 'ia', 'ks', 'ky', 'mo', 'oh', 'pa', 'tn', 'va', 'acalypha gracilens', 'al', 'ar', 'ct', 'de', 'dc', 'fl', 'ga', 'il', 'in', 'ia', 'ky', 'la', 'me', 'md', 'ma', 'mi', 'ms', 'mo', 'nh', 'nj', 'ny', 'nc', 'oh', 'ok', 'pa', 'ri', 'sc', 'tn', 'tx', 'vt', 'va', 'wv', 'wi', 'acalypha hispida', 'pr', 'acalypha mexicana', 'az', 'acalypha monococca', 'ar', 'il', 'ks', 'mo', 'ok', 'tx', 'acalypha monostachya', 'tx', 'acalypha neomexicana', 'az', 'nm', 'tx', 'acalypha ostryifolia', 'al', 'az', 'ar', 'fl', 'ga', 'il', 'in', 'ia', 'ks', 'ky', 'la', 'ms', 'mo', 'ne', 'nj', 'nm', 'nc', 'oh', 'ok', 'pa', 'sc', 'tn', 'tx', 'va', 'wv', 'pr', 'vi', 'acalypha phleoides', 'az', 'nm', 'tx', 'acalypha poiretii', 'al', 'nj', 'tx', 'pr', 'vi', 'acalypha portoricensis']\n"
          ]
        },
        {
          "output_type": "execute_result",
          "data": {
            "text/plain": [
              "True"
            ]
          },
          "metadata": {},
          "execution_count": 3
        }
      ]
    },
    {
      "cell_type": "markdown",
      "source": [
        "# Public implementation\n"
      ],
      "metadata": {
        "id": "nHiWi5RAd3GF"
      }
    },
    {
      "cell_type": "code",
      "source": [
        "!pip install numpy ggplot pandas\n",
        "\n",
        "import numpy as np\n",
        "import pandas as pd\n",
        "import hashlib\n",
        "import zlib"
      ],
      "metadata": {
        "colab": {
          "base_uri": "https://localhost:8080/"
        },
        "id": "rgbsKsl9fJsN",
        "outputId": "8292dcfd-affb-46bb-beaf-a0bb5c910710"
      },
      "execution_count": 4,
      "outputs": [
        {
          "output_type": "stream",
          "name": "stdout",
          "text": [
            "Looking in indexes: https://pypi.org/simple, https://us-python.pkg.dev/colab-wheels/public/simple/\n",
            "Requirement already satisfied: numpy in /usr/local/lib/python3.7/dist-packages (1.21.6)\n",
            "Collecting ggplot\n",
            "  Downloading ggplot-0.11.5-py2.py3-none-any.whl (2.2 MB)\n",
            "\u001b[K     |████████████████████████████████| 2.2 MB 4.3 MB/s \n",
            "\u001b[?25hRequirement already satisfied: pandas in /usr/local/lib/python3.7/dist-packages (1.3.5)\n",
            "Requirement already satisfied: six in /usr/local/lib/python3.7/dist-packages (from ggplot) (1.15.0)\n",
            "Requirement already satisfied: statsmodels in /usr/local/lib/python3.7/dist-packages (from ggplot) (0.10.2)\n",
            "Collecting brewer2mpl\n",
            "  Downloading brewer2mpl-1.4.1-py2.py3-none-any.whl (24 kB)\n",
            "Requirement already satisfied: patsy>=0.4 in /usr/local/lib/python3.7/dist-packages (from ggplot) (0.5.2)\n",
            "Requirement already satisfied: scipy in /usr/local/lib/python3.7/dist-packages (from ggplot) (1.4.1)\n",
            "Requirement already satisfied: cycler in /usr/local/lib/python3.7/dist-packages (from ggplot) (0.11.0)\n",
            "Requirement already satisfied: matplotlib in /usr/local/lib/python3.7/dist-packages (from ggplot) (3.2.2)\n",
            "Requirement already satisfied: pytz>=2017.3 in /usr/local/lib/python3.7/dist-packages (from pandas) (2022.1)\n",
            "Requirement already satisfied: python-dateutil>=2.7.3 in /usr/local/lib/python3.7/dist-packages (from pandas) (2.8.2)\n",
            "Requirement already satisfied: pyparsing!=2.0.4,!=2.1.2,!=2.1.6,>=2.0.1 in /usr/local/lib/python3.7/dist-packages (from matplotlib->ggplot) (3.0.9)\n",
            "Requirement already satisfied: kiwisolver>=1.0.1 in /usr/local/lib/python3.7/dist-packages (from matplotlib->ggplot) (1.4.2)\n",
            "Requirement already satisfied: typing-extensions in /usr/local/lib/python3.7/dist-packages (from kiwisolver>=1.0.1->matplotlib->ggplot) (4.2.0)\n",
            "Installing collected packages: brewer2mpl, ggplot\n",
            "Successfully installed brewer2mpl-1.4.1 ggplot-0.11.5\n"
          ]
        }
      ]
    },
    {
      "cell_type": "code",
      "source": [
        "def hash_CRC32(s):\n",
        "    return zlib.crc32(s) & 0xffffff\n",
        "\n",
        "def hash_Adler32(s):\n",
        "    return zlib.adler32(s) & 0xffffff\n",
        "\n",
        "def hash_MD5(s):\n",
        "    return int(hashlib.md5(s).hexdigest(), 16) & 0xffffff\n",
        "\n",
        "def hash_SHA(s):\n",
        "    return int(hashlib.sha1(s).hexdigest(), 16) & 0xffffff\n",
        "\n",
        "hash_functions = [hash_CRC32, hash_Adler32, hash_MD5, hash_SHA]"
      ],
      "metadata": {
        "id": "18UPwV0teQqq"
      },
      "execution_count": 5,
      "outputs": []
    },
    {
      "cell_type": "code",
      "source": [
        "encoded_data = [x.lower().encode('utf-8') for x in data]\n",
        "train = encoded_data[0:1000] # ~400 unique elements\n",
        "test = encoded_data[1000:15000]\n",
        "\n",
        "s = set([])\n",
        "for w in train:\n",
        "    s.add(w)\n",
        "\n",
        "\n",
        "def bloom_count(N, df = None):\n",
        "  bitmap = np.array([0] * N)\n",
        "  for w in train:\n",
        "    for hash_function in hash_functions:\n",
        "        bitmap[hash_function(w) % N] = 1\n",
        "\n",
        "  size = \"N=\" + str(N) + \" (ratio: \" + str(round(np.mean(bitmap), 3)) + \")\"     \n",
        "\n",
        "  error = 0\n",
        "  for i, w in enumerate(test):\n",
        "    check = True\n",
        "    for hash_function in hash_functions:\n",
        "      if bitmap[hash_function(w) % N] == 0:\n",
        "        check = False\n",
        "            \n",
        "    if check == True and w not in s:\n",
        "      error += 1\n",
        "\n",
        "    if df is not None:\n",
        "      df.loc[idx * len(test) + i] = [i, error, size]\n",
        "\n",
        "  return error\n",
        "\n",
        "N_sizes = [500, 800, 2000]\n",
        "df = pd.DataFrame(data=np.nan, index=range(0, len(test) * len(N_sizes)), columns=['x', 'error', 'size'])\n",
        "\n",
        "for idx, N in enumerate(N_sizes):\n",
        "  error = bloom_count(N, df)\n"
      ],
      "metadata": {
        "id": "FMMSAa8Zd8dG"
      },
      "execution_count": 6,
      "outputs": []
    },
    {
      "cell_type": "code",
      "source": [
        "!pip install plotnine\n",
        "from plotnine import *\n",
        "\n",
        "ggplot(aes(x='x', y='error', group='size', color='size'), data=df) + geom_step() \\\n",
        "    + xlab('Words Processed') + ylab('False Positives') + theme_bw()"
      ],
      "metadata": {
        "colab": {
          "base_uri": "https://localhost:8080/",
          "height": 812
        },
        "id": "cYSxASY5eJpr",
        "outputId": "36d054ca-0f44-4854-94e2-a878597d5c94"
      },
      "execution_count": 7,
      "outputs": [
        {
          "output_type": "stream",
          "name": "stdout",
          "text": [
            "Looking in indexes: https://pypi.org/simple, https://us-python.pkg.dev/colab-wheels/public/simple/\n",
            "Requirement already satisfied: plotnine in /usr/local/lib/python3.7/dist-packages (0.6.0)\n",
            "Requirement already satisfied: mizani>=0.6.0 in /usr/local/lib/python3.7/dist-packages (from plotnine) (0.6.0)\n",
            "Requirement already satisfied: matplotlib>=3.1.1 in /usr/local/lib/python3.7/dist-packages (from plotnine) (3.2.2)\n",
            "Requirement already satisfied: scipy>=1.2.0 in /usr/local/lib/python3.7/dist-packages (from plotnine) (1.4.1)\n",
            "Requirement already satisfied: statsmodels>=0.9.0 in /usr/local/lib/python3.7/dist-packages (from plotnine) (0.10.2)\n",
            "Requirement already satisfied: descartes>=1.1.0 in /usr/local/lib/python3.7/dist-packages (from plotnine) (1.1.0)\n",
            "Requirement already satisfied: pandas>=0.25.0 in /usr/local/lib/python3.7/dist-packages (from plotnine) (1.3.5)\n",
            "Requirement already satisfied: patsy>=0.4.1 in /usr/local/lib/python3.7/dist-packages (from plotnine) (0.5.2)\n",
            "Requirement already satisfied: numpy>=1.16.0 in /usr/local/lib/python3.7/dist-packages (from plotnine) (1.21.6)\n",
            "Requirement already satisfied: python-dateutil>=2.1 in /usr/local/lib/python3.7/dist-packages (from matplotlib>=3.1.1->plotnine) (2.8.2)\n",
            "Requirement already satisfied: pyparsing!=2.0.4,!=2.1.2,!=2.1.6,>=2.0.1 in /usr/local/lib/python3.7/dist-packages (from matplotlib>=3.1.1->plotnine) (3.0.9)\n",
            "Requirement already satisfied: kiwisolver>=1.0.1 in /usr/local/lib/python3.7/dist-packages (from matplotlib>=3.1.1->plotnine) (1.4.2)\n",
            "Requirement already satisfied: cycler>=0.10 in /usr/local/lib/python3.7/dist-packages (from matplotlib>=3.1.1->plotnine) (0.11.0)\n",
            "Requirement already satisfied: typing-extensions in /usr/local/lib/python3.7/dist-packages (from kiwisolver>=1.0.1->matplotlib>=3.1.1->plotnine) (4.2.0)\n",
            "Requirement already satisfied: palettable in /usr/local/lib/python3.7/dist-packages (from mizani>=0.6.0->plotnine) (3.3.0)\n",
            "Requirement already satisfied: pytz>=2017.3 in /usr/local/lib/python3.7/dist-packages (from pandas>=0.25.0->plotnine) (2022.1)\n",
            "Requirement already satisfied: six in /usr/local/lib/python3.7/dist-packages (from patsy>=0.4.1->plotnine) (1.15.0)\n"
          ]
        },
        {
          "output_type": "stream",
          "name": "stderr",
          "text": [
            "/usr/local/lib/python3.7/dist-packages/plotnine/utils.py:1246: FutureWarning: is_categorical is deprecated and will be removed in a future version.  Use is_categorical_dtype instead\n",
            "  if pdtypes.is_categorical(arr):\n"
          ]
        },
        {
          "output_type": "display_data",
          "data": {
            "text/plain": [
              "<Figure size 640x480 with 1 Axes>"
            ],
            "image/png": "[encoded data removed]"
          },
          "metadata": {}
        },
        {
          "output_type": "execute_result",
          "data": {
            "text/plain": [
              "<ggplot: (8768014614709)>"
            ]
          },
          "metadata": {},
          "execution_count": 7
        }
      ]
    },
    {
      "cell_type": "markdown",
      "source": [
        "# Interactive frontend"
      ],
      "metadata": {
        "id": "bJj7PGDLvM2D"
      }
    },
    {
      "cell_type": "code",
      "source": [
        "import ipywidgets as widgets\n",
        "memorySizeInput = widgets.IntSlider(\n",
        "    value=500,\n",
        "    min=0,\n",
        "    max=4000,\n",
        "    step=10,\n",
        "    description='Memory size:',\n",
        "    orientation='horizontal',\n",
        "    readout=True,\n",
        "    readout_format='d'\n",
        ")\n",
        "searchWordInput = widgets.Text(\n",
        "    value='abelmoschus',\n",
        "    description='Search word:'\n",
        ")\n",
        "searchButton = widgets.Button(description=\"Search\")\n",
        "searchOutput = widgets.Output()\n",
        "\n",
        "countSizeSlider = widgets.IntSlider(\n",
        "    value=500,\n",
        "    min=0,\n",
        "    max=4000,\n",
        "    step=10,\n",
        "    description='Memory size:',\n",
        "    orientation='horizontal',\n",
        "    readout=True,\n",
        "    readout_format='d'\n",
        ")\n",
        "countButton = widgets.Button(description=\"Count search hits\")\n",
        "countOutput = widgets.Output()\n",
        "\n",
        "def on_search_button_clicked(b):\n",
        "  with searchOutput:\n",
        "    my_data = data[0:1000]\n",
        "    my_filter = BloomFilter(my_data, memorySizeInput.value)\n",
        "    print('N:', \n",
        "      memorySizeInput.value,\n",
        "      '  Real:',\n",
        "      searchWordInput.value in my_data,\n",
        "      '  Bloom:',\n",
        "      my_filter.search(searchWordInput.value)\n",
        "    )\n",
        "\n",
        "def on_count_button_clicked(b):\n",
        "  with countOutput:\n",
        "    error = bloom_count(countSizeSlider.value)\n",
        "    print('N:', \n",
        "      countSizeSlider.value,\n",
        "      '  Error count:',\n",
        "      error\n",
        "    )\n",
        "\n",
        "searchButton.on_click(on_search_button_clicked)\n",
        "countButton.on_click(on_count_button_clicked)\n",
        "\n",
        "display(\n",
        "  widgets.HTML(value='<h1>Bloom Filter</h1>'),\n",
        "  widgets.HTML(value='<h2>Search (Personal Implementation)</h2>'),\n",
        "  memorySizeInput,\n",
        "  searchWordInput,\n",
        "  searchButton,\n",
        "  searchOutput,\n",
        "  widgets.HTML(value='<h2>Count (Public Implementation)</h2>'),\n",
        "  countSizeSlider,\n",
        "  countButton,\n",
        "  countOutput\n",
        ")"
      ],
      "metadata": {
        "colab": {
          "base_uri": "https://localhost:8080/",
          "height": 466,
          "referenced_widgets": [
            "06b174f547fc447ca873eded9dbc83d2",
            "8bfd3242d175495086be1d6710b2728c",
            "80dd951294bd40fbbaf8ca7d0dbd7d68",
            "0c1d9869fb3a4dcba64d4e3157ec7c5a",
            "fe96a2c308e44c919125a49b2c20c85b",
            "2e7f6400be984967848d3464043abcd8",
            "9ded72555f4841e3aa734908b6118d11",
            "1cd699f5ed2349f4945c0389525fd378",
            "9d9be332dae540acb9393eebf4269179",
            "ff8a0d3ff0c8452ba86a2bf437e480fd",
            "5dd487a883cb4c619d2286e8ab68d6c5",
            "be88982bc4a840afa67003a608978b8d",
            "05d4212585bd4730a249751870da69d3",
            "6f02dd8622a64557a8defb6e8df371be",
            "94747d2453494a90ad6424935629b201",
            "2b3edc8a1e52449f92d8aeb8546742c8",
            "49a65f398b354ec09a42a97f0aeb9594",
            "e5f6090836ee44a791d1e85a072a2789",
            "2ca5c387a2a644f49b045d0367e29325",
            "c107a1df484b4c0f9f56515cef7ad3d1",
            "ce67d625945d4071bf25f3d4b233e427",
            "3d925aacbb804052b108c2d341f80b98",
            "493d144c00e347068e7ae06460a6da42",
            "d2195fc3dde8453e949178172611c09d",
            "dedc722bb3fd4e81a57b3947fb258cce",
            "22d6022649a049428528cd36a26ea275",
            "8f4f559cc12b450bbfc42fdbbc35a04c",
            "5c58ea5db0d34424af1ace796d188ffb"
          ]
        },
        "id": "k8ClG-XRYFul",
        "outputId": "0633ef1c-cdef-4e6c-9ad0-97c00861232a"
      },
      "execution_count": 8,
      "outputs": [
        {
          "output_type": "display_data",
          "data": {
            "text/plain": [
              "HTML(value='<h1>Bloom Filter</h1>')"
            ],
            "application/vnd.jupyter.widget-view+json": {
              "version_major": 2,
              "version_minor": 0,
              "model_id": "06b174f547fc447ca873eded9dbc83d2"
            }
          },
          "metadata": {}
        },
        {
          "output_type": "display_data",
          "data": {
            "text/plain": [
              "HTML(value='<h2>Search (Personal Implementation)</h2>')"
            ],
            "application/vnd.jupyter.widget-view+json": {
              "version_major": 2,
              "version_minor": 0,
              "model_id": "0c1d9869fb3a4dcba64d4e3157ec7c5a"
            }
          },
          "metadata": {}
        },
        {
          "output_type": "display_data",
          "data": {
            "text/plain": [
              "IntSlider(value=500, description='Memory size:', max=4000, step=10)"
            ],
            "application/vnd.jupyter.widget-view+json": {
              "version_major": 2,
              "version_minor": 0,
              "model_id": "9ded72555f4841e3aa734908b6118d11"
            }
          },
          "metadata": {}
        },
        {
          "output_type": "display_data",
          "data": {
            "text/plain": [
              "Text(value='abelmoschus', description='Search word:')"
            ],
            "application/vnd.jupyter.widget-view+json": {
              "version_major": 2,
              "version_minor": 0,
              "model_id": "ff8a0d3ff0c8452ba86a2bf437e480fd"
            }
          },
          "metadata": {}
        },
        {
          "output_type": "display_data",
          "data": {
            "text/plain": [
              "Button(description='Search', style=ButtonStyle())"
            ],
            "application/vnd.jupyter.widget-view+json": {
              "version_major": 2,
              "version_minor": 0,
              "model_id": "05d4212585bd4730a249751870da69d3"
            }
          },
          "metadata": {}
        },
        {
          "output_type": "display_data",
          "data": {
            "text/plain": [
              "Output()"
            ],
            "application/vnd.jupyter.widget-view+json": {
              "version_major": 2,
              "version_minor": 0,
              "model_id": "2b3edc8a1e52449f92d8aeb8546742c8"
            }
          },
          "metadata": {}
        },
        {
          "output_type": "display_data",
          "data": {
            "text/plain": [
              "HTML(value='<h2>Count (Public Implementation)</h2>')"
            ],
            "application/vnd.jupyter.widget-view+json": {
              "version_major": 2,
              "version_minor": 0,
              "model_id": "e5f6090836ee44a791d1e85a072a2789"
            }
          },
          "metadata": {}
        },
        {
          "output_type": "display_data",
          "data": {
            "text/plain": [
              "IntSlider(value=500, description='Memory size:', max=4000, step=10)"
            ],
            "application/vnd.jupyter.widget-view+json": {
              "version_major": 2,
              "version_minor": 0,
              "model_id": "ce67d625945d4071bf25f3d4b233e427"
            }
          },
          "metadata": {}
        },
        {
          "output_type": "display_data",
          "data": {
            "text/plain": [
              "Button(description='Count search hits', style=ButtonStyle())"
            ],
            "application/vnd.jupyter.widget-view+json": {
              "version_major": 2,
              "version_minor": 0,
              "model_id": "d2195fc3dde8453e949178172611c09d"
            }
          },
          "metadata": {}
        },
        {
          "output_type": "display_data",
          "data": {
            "text/plain": [
              "Output()"
            ],
            "application/vnd.jupyter.widget-view+json": {
              "version_major": 2,
              "version_minor": 0,
              "model_id": "8f4f559cc12b450bbfc42fdbbc35a04c"
            }
          },
          "metadata": {}
        },
        {
          "output_type": "stream",
          "name": "stdout",
          "text": [
            "N: 500   Error count: 700\n",
            "N: 590   Error count: 557\n",
            "N: 3510   Error count: 5\n",
            "N: 170   Error count: 1308\n"
          ]
        }
      ]
    }
  ]
}